{
 "cells": [
  {
   "cell_type": "markdown",
   "id": "5584dc67",
   "metadata": {},
   "source": [
    "<img src=\"../supervised_learning/holberton_logo.png\" alt=\"logo\" width=\"500\"/>\n",
    "\n",
    "# Dimensionality Reduction"
   ]
  },
  {
   "cell_type": "markdown",
   "id": "20d0b5ba",
   "metadata": {},
   "source": [
    "## 0. PCA\n",
    "\n",
    "Write a function `def pca(X, var=0.95)`: that performs PCA on a dataset:\n",
    "\n",
    "\n",
    "- `X` is a numpy.ndarray of shape `(n, d)` where:\n",
    "    - `n` is the number of data points\n",
    "    - `d` is the number of dimensions in each point\n",
    "\n",
    "\n",
    "- all dimensions have a mean of `0` across all data points\n",
    "\n",
    "\n",
    "- `var` is the fraction of the variance that the PCA transformation should maintain\n",
    "\n",
    "\n",
    "- Returns: the weights matrix, `W`, that maintains var fraction of `X`'s original variance\n",
    "    - `W` is a numpy.ndarray of shape `(d, nd)` where `nd` is the new dimensionality of the transformed `X`"
   ]
  },
  {
   "cell_type": "code",
   "execution_count": 1,
   "id": "16b506e8",
   "metadata": {},
   "outputs": [],
   "source": [
    "import numpy as np\n",
    "\n",
    "\n",
    "def pca(X, var=0.95):\n",
    "    \"\"\"\n",
    "    Performs principal components analysis (PCA) on a dataset\n",
    "    \"\"\"\n",
    "    # n, d = X.shape\n",
    "    u, s, v = np.linalg.svd(X)\n",
    "    ratios = list(x / np.sum(s) for x in s)\n",
    "    variance = np.cumsum(ratios)\n",
    "    nd = np.argwhere(variance >= var)[0, 0]\n",
    "    W = v.T[:, :(nd + 1)]\n",
    "    return (W)"
   ]
  },
  {
   "cell_type": "markdown",
   "id": "bfaf4c73",
   "metadata": {},
   "source": [
    "### Main (Test) File"
   ]
  },
  {
   "cell_type": "code",
   "execution_count": 2,
   "id": "f66cb720",
   "metadata": {},
   "outputs": [
    {
     "name": "stdout",
     "output_type": "stream",
     "text": [
      "[[-16.71379391   3.25277063  -3.21956297]\n",
      " [ 16.22654311  -0.7283969   -0.88325252]\n",
      " [ 15.05945199   3.81948929  -1.97153621]\n",
      " [ -7.69814111   5.49561088  -4.34581561]\n",
      " [ 14.25075197   1.37060228  -4.04817187]\n",
      " [-16.66888233  -3.77067823   2.6264981 ]\n",
      " [  6.71765183   0.18115089  -1.91719288]\n",
      " [ 10.20004065  -0.84380128   0.44754302]\n",
      " [-16.93427229   1.72241573   0.9006236 ]\n",
      " [-12.4100987    0.75431367  -0.36518129]\n",
      " [-16.40464248   1.98431953   0.34907508]\n",
      " [ -6.69439671   1.30624703  -2.77438892]\n",
      " [ 10.84363895   4.99826372  -1.36502623]\n",
      " [-17.2656016    7.29822621   0.63226953]\n",
      " [  5.32413372  -0.54822516  -0.79075935]\n",
      " [ -5.63240657   1.50278876  -0.27590797]\n",
      " [ -7.63440366   7.72788006  -2.58344477]\n",
      " [  4.3348786   -2.14969035   0.61262033]\n",
      " [ -3.95417052   4.22254889  -0.14601319]\n",
      " [ -6.59947069  -1.00867621   2.29551761]\n",
      " [ -0.78942283  -4.15454151   5.87117533]\n",
      " [ 13.62292856   0.40038586  -1.36043631]\n",
      " [  0.03536684  -5.85950737  -1.86196569]\n",
      " [-11.1841298    5.20313078   2.37753549]\n",
      " [  9.62095425  -1.17179699  -4.97535412]\n",
      " [  3.85296648   3.55808      3.65166717]\n",
      " [  6.57934417   4.87503426   0.30243418]\n",
      " [-16.17025935   1.49358788   1.0663259 ]\n",
      " [ -4.33639793   1.26186205  -2.99149191]\n",
      " [ -1.52947063  -0.39342225  -2.96475006]\n",
      " [  9.80619496   6.65483286   0.07714817]\n",
      " [ -2.45893463  -4.89091813  -0.6918453 ]\n",
      " [  9.56282904  -1.8002211    2.06720323]\n",
      " [  1.70293073   7.68378254   5.03581954]\n",
      " [  9.58030378  -6.97453776   0.64558546]\n",
      " [ -3.41279182 -10.07660784  -0.39277019]\n",
      " [ -2.74983634  -6.25461193  -2.65038235]\n",
      " [  4.54987003   1.28692201  -2.40001675]\n",
      " [ -1.81149682   5.16735962   1.4245976 ]\n",
      " [ 13.97823555  -4.39187437   0.57600155]\n",
      " [ 17.39107161   3.26808567   2.50429006]\n",
      " [ -1.25835112  -6.60720376   3.24220508]\n",
      " [  1.06405562  -1.25980089   4.06401644]\n",
      " [ -3.44578711  -5.21002054  -4.20836152]\n",
      " [-21.1181523   -3.72353504   1.6564066 ]\n",
      " [ -6.56723647  -4.31268383   1.22783639]\n",
      " [ 11.77670231   0.67338386   2.94885044]\n",
      " [ -7.89417224  -9.82300322  -1.69743681]\n",
      " [ 15.87543091   0.3804009    3.67627751]\n",
      " [  7.38044431  -1.58972122   0.60154138]]\n",
      "2.306623725743524e-29\n"
     ]
    }
   ],
   "source": [
    "np.random.seed(0)\n",
    "a = np.random.normal(size=50)\n",
    "b = np.random.normal(size=50)\n",
    "c = np.random.normal(size=50)\n",
    "d = 2 * a\n",
    "e = -5 * b\n",
    "f = 10 * c\n",
    "\n",
    "X = np.array([a, b, c, d, e, f]).T\n",
    "m = X.shape[0]\n",
    "X_m = X - np.mean(X, axis=0)\n",
    "W = pca(X_m)\n",
    "T = np.matmul(X_m, W)\n",
    "print(T)\n",
    "X_t = np.matmul(T, W.T)\n",
    "print(np.sum(np.square(X_m - X_t)) / m)"
   ]
  },
  {
   "cell_type": "markdown",
   "id": "0ebb92d0",
   "metadata": {},
   "source": [
    "## 1. PCA v2\n",
    "\n",
    "Write a function `def pca(X, ndim)`: that performs PCA on a dataset:\n",
    "\n",
    "- `X` is a numpy.ndarray of shape `(n, d)` where:\n",
    "    - `n` is the number of data points\n",
    "    - `d` is the number of dimensions in each point\n",
    "\n",
    "\n",
    "- `ndim` is the new dimensionality of the transformed `X`\n",
    "\n",
    "\n",
    "- Returns: `T`, a numpy.ndarray of shape `(n, ndim)` containing the transformed version of `X`"
   ]
  },
  {
   "cell_type": "code",
   "execution_count": 3,
   "id": "cdd7ceb6",
   "metadata": {},
   "outputs": [],
   "source": [
    "#!/usr/bin/env python3\n",
    "\"\"\"\n",
    "Defines function that performs principal components analysis (PCA) on dataset\n",
    "\"\"\"\n",
    "\n",
    "\n",
    "import numpy as np\n",
    "\n",
    "\n",
    "def pca(X, ndim):\n",
    "    \"\"\"\n",
    "    Performs principal components analysis (PCA) on a dataset\n",
    "    \"\"\"\n",
    "    # n, d = X.shape\n",
    "    mean = np.mean(X, axis=0, keepdims=True)\n",
    "    A = X - mean\n",
    "    u, s, v = np.linalg.svd(A)\n",
    "    W = v.T[:, :ndim]\n",
    "    T = np.matmul(A, W)\n",
    "    return (T)"
   ]
  },
  {
   "cell_type": "markdown",
   "id": "daa35c85",
   "metadata": {},
   "source": [
    "### Main (Test) File"
   ]
  },
  {
   "cell_type": "code",
   "execution_count": 5,
   "id": "28d705d1",
   "metadata": {},
   "outputs": [
    {
     "name": "stdout",
     "output_type": "stream",
     "text": [
      "X: (2500, 784)\n",
      "[[1. 1. 1. ... 1. 1. 1.]\n",
      " [1. 1. 1. ... 1. 1. 1.]\n",
      " [1. 1. 1. ... 1. 1. 1.]\n",
      " ...\n",
      " [1. 1. 1. ... 1. 1. 1.]\n",
      " [1. 1. 1. ... 1. 1. 1.]\n",
      " [1. 1. 1. ... 1. 1. 1.]]\n",
      "T: (2500, 50)\n",
      "[[-0.61344587  1.37452188 -1.41781926 ...  0.42685217 -0.02276617\n",
      "  -0.1076424 ]\n",
      " [-5.00379081  1.94540396  1.49147124 ... -0.26249077  0.4134049\n",
      "   1.15489853]\n",
      " [-0.31463237 -2.11658407  0.36608266 ...  0.71665401  0.18946283\n",
      "  -0.32878802]\n",
      " ...\n",
      " [ 3.52302175  4.1962009  -0.52129062 ...  0.24412645 -0.02189273\n",
      "  -0.19223197]\n",
      " [-0.81387035 -2.43970416  0.33244717 ...  0.55367626  0.64632309\n",
      "  -0.42547833]\n",
      " [-2.25717018  3.67177791  2.83905021 ...  0.35014766  0.01807652\n",
      "  -0.31548087]]\n"
     ]
    }
   ],
   "source": [
    "X = np.loadtxt(\"data/mnist2500_X.txt\")\n",
    "print('X:', X.shape)\n",
    "print(X)\n",
    "T = pca(X, 50)\n",
    "print('T:', T.shape)\n",
    "print(T)"
   ]
  },
  {
   "cell_type": "code",
   "execution_count": null,
   "id": "f080967b",
   "metadata": {},
   "outputs": [],
   "source": []
  }
 ],
 "metadata": {
  "kernelspec": {
   "display_name": "Python 3 (ipykernel)",
   "language": "python",
   "name": "python3"
  },
  "language_info": {
   "codemirror_mode": {
    "name": "ipython",
    "version": 3
   },
   "file_extension": ".py",
   "mimetype": "text/x-python",
   "name": "python",
   "nbconvert_exporter": "python",
   "pygments_lexer": "ipython3",
   "version": "3.9.12"
  }
 },
 "nbformat": 4,
 "nbformat_minor": 5
}
